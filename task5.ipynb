{
 "cells": [
  {
   "cell_type": "code",
   "execution_count": null,
   "id": "0d05f392-2626-497c-b7bc-d97e97e4b133",
   "metadata": {},
   "outputs": [],
   "source": [
    "\n",
    "#Step 1: Import required libraries\n",
    "import requests\n",
    "import tkinter as tk\n",
    "from tkinter import ttk, messagebox\n",
    "\n",
    "#Step 2: Define functions for fetching exchange rates and converting currency\n",
    "def get_exchange_rates():\n",
    "    url = 'https://api.exchangerate-api.com/v4/latest/USD'\n",
    "    response = requests.get(url)\n",
    "    data = response.json()\n",
    "    return data['rates']\n",
    "\n",
    "def convert_currency(amount, rate):\n",
    "    return amount * rate\n",
    "\n",
    "#Step 3: Define the CurrencyConverterApp class for GUI\n",
    "class CurrencyConverterApp:\n",
    "    def __init__(self, root):\n",
    "        self.root = root\n",
    "        self.root.title('USD Currency Converter')\n",
    "        self.root.geometry('400x300')\n",
    "        \n",
    "        self.rates = get_exchange_rates()\n",
    "        self.create_widgets()\n",
    "    \n",
    "    def create_widgets(self):\n",
    "        tk.Label(self.root, text='Amount in USD:').grid(row=0, column=0, padx=10, pady=10)\n",
    "        self.amount_entry = tk.Entry(self.root)\n",
    "        self.amount_entry.grid(row=0, column=1, padx=10, pady=10)\n",
    "        \n",
    "        tk.Label(self.root, text='Convert to:').grid(row=1, column=0, padx=10, pady=10)\n",
    "        self.currency_var = tk.StringVar(self.root)\n",
    "        self.currency_dropdown = ttk.Combobox(self.root, textvariable=self.currency_var)\n",
    "        self.currency_dropdown['values'] = list(self.rates.keys())\n",
    "        self.currency_dropdown.grid(row=1, column=1, padx=10, pady=10)\n",
    "        \n",
    "        self.convert_button = tk.Button(self.root, text='Convert', command=self.convert)\n",
    "        self.convert_button.grid(row=2, column=0, columnspan=2, padx=10, pady=10)\n",
    "        \n",
    "        self.result_label = tk.Label(self.root, text='', font=('Arial', 12))\n",
    "        self.result_label.grid(row=3, column=0, columnspan=2, padx=10, pady=10)\n",
    "    \n",
    "    def convert(self):\n",
    "        amount = float(self.amount_entry.get())\n",
    "        target_currency = self.currency_var.get()\n",
    "        rate = self.rates[target_currency]\n",
    "        converted_amount = convert_currency(amount, rate)\n",
    "        self.result_label.config(text=f'{amount} USD = {converted_amount:.2f} {target_currency}')\n",
    "\n",
    "# Step 4: Run the application\n",
    "if __name__ == '__main__':\n",
    "    root = tk.Tk()\n",
    "    app = CurrencyConverterApp(root)\n",
    "    root.mainloop()\n",
    " "
   ]
  },
  {
   "cell_type": "code",
   "execution_count": null,
   "id": "9d56b69c-a4af-44e4-a95c-57946eb29ad1",
   "metadata": {},
   "outputs": [],
   "source": []
  }
 ],
 "metadata": {
  "kernelspec": {
   "display_name": "Python 3 (ipykernel)",
   "language": "python",
   "name": "python3"
  },
  "language_info": {
   "codemirror_mode": {
    "name": "ipython",
    "version": 3
   },
   "file_extension": ".py",
   "mimetype": "text/x-python",
   "name": "python",
   "nbconvert_exporter": "python",
   "pygments_lexer": "ipython3",
   "version": "3.12.4"
  }
 },
 "nbformat": 4,
 "nbformat_minor": 5
}
